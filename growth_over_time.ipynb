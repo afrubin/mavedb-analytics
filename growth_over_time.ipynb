{
 "cells": [
  {
   "cell_type": "code",
   "execution_count": null,
   "id": "b2abd28c-b0b7-4a70-b5e2-9f23edfe4f02",
   "metadata": {},
   "outputs": [],
   "source": [
    "import json\n",
    "import pandas as pd\n",
    "import numpy as np\n",
    "import matplotlib.pyplot as plt\n",
    "import matplotlib as mpl\n",
    "from pathlib import Path\n",
    "from collections import defaultdict"
   ]
  },
  {
   "cell_type": "code",
   "execution_count": null,
   "id": "1d2748bc-51c4-4702-a84e-fb884d7d198a",
   "metadata": {},
   "outputs": [],
   "source": [
    "path_to_mavedb_data = Path(\"/path/to/mavedb-dump.20241114101443\")\n",
    "with open(Path(path_to_mavedb_data, \"main.json\")) as handle:\n",
    "    api_data = json.load(handle)"
   ]
  },
  {
   "cell_type": "code",
   "execution_count": null,
   "id": "96d6b868-5fd7-47c7-bfd2-eb7d41e1b9cd",
   "metadata": {},
   "outputs": [],
   "source": [
    "len(api_data['experimentSets'])"
   ]
  },
  {
   "cell_type": "code",
   "execution_count": null,
   "id": "dc7f07bb-d890-4c82-a90d-7e9a10170e73",
   "metadata": {},
   "outputs": [],
   "source": [
    "dump_date = api_data['asOf'].split('T')[0]\n",
    "dump_date"
   ]
  },
  {
   "cell_type": "code",
   "execution_count": null,
   "id": "8f8e9c1f-5cbc-4c39-9847-e879f71e1a37",
   "metadata": {},
   "outputs": [],
   "source": [
    "total_experiments = 0\n",
    "for eset in api_data['experimentSets']:\n",
    "    total_experiments += len(eset['experiments'])\n",
    "total_experiments"
   ]
  },
  {
   "cell_type": "code",
   "execution_count": null,
   "id": "9cae9d26-dd32-4678-a409-f40e955b62f2",
   "metadata": {},
   "outputs": [],
   "source": [
    "experiments_by_year = defaultdict(int)\n",
    "variants_by_year = defaultdict(int)\n",
    "for eset in api_data['experimentSets']:\n",
    "    for exp in eset['experiments']:\n",
    "        year = int(exp['publishedDate'].split('-')[0])\n",
    "        experiments_by_year[year] += 1\n",
    "        for ss in exp['scoreSets']:\n",
    "            variants_by_year[year] += ss['numVariants']"
   ]
  },
  {
   "cell_type": "code",
   "execution_count": null,
   "id": "19b5b390-3202-4b48-a665-74e159043938",
   "metadata": {},
   "outputs": [],
   "source": [
    "experiments_by_year"
   ]
  },
  {
   "cell_type": "code",
   "execution_count": null,
   "id": "8697d730-aeec-4a94-8c96-035fa27fe705",
   "metadata": {},
   "outputs": [],
   "source": [
    "experiments_by_year_cumulative = {k: v for k, v in zip(experiments_by_year.keys(), np.cumsum(list(experiments_by_year.values())))}\n",
    "experiments_by_year_cumulative"
   ]
  },
  {
   "cell_type": "code",
   "execution_count": null,
   "id": "99464e1e-3aef-45a6-a52a-3cb476fb3435",
   "metadata": {},
   "outputs": [],
   "source": [
    "variants_by_year"
   ]
  },
  {
   "cell_type": "code",
   "execution_count": null,
   "id": "6db818cc-0530-4c3e-973c-b34e9f2fded8",
   "metadata": {},
   "outputs": [],
   "source": [
    "variants_by_year_cumulative = {k: v for k, v in zip(variants_by_year.keys(), np.cumsum(list(variants_by_year.values())))}\n",
    "variants_by_year_cumulative"
   ]
  },
  {
   "cell_type": "code",
   "execution_count": null,
   "id": "0d5e2e84-9ba1-4fca-afe0-d8733ba070cf",
   "metadata": {
    "scrolled": false
   },
   "outputs": [],
   "source": [
    "# set the font\n",
    "font = {'family': 'Lato',\n",
    "        'weight': 'normal',\n",
    "        'size' : 15,}\n",
    "mpl.rc('font', **font)\n",
    "\n",
    "# create the figure\n",
    "fig, ax = plt.subplots(figsize=(10, 6))\n",
    "\n",
    "# make the barplot of experiments\n",
    "bars = ax.bar(range(len(experiments_by_year_cumulative)), list(experiments_by_year_cumulative.values()), align=\"center\", zorder=10, color=\"tab:blue\")\n",
    "ax.set_xticks(range(len(experiments_by_year_cumulative)), list(experiments_by_year_cumulative.keys()))\n",
    "ax.set_ylabel(\"Cumulative Datasets\")\n",
    "ax.set_xlabel(\"Data Release Year\")\n",
    "ax.grid(which=\"major\", axis=\"y\", zorder=0)\n",
    "ax.set_ylim(0, ax.get_yticks()[-1])\n",
    "\n",
    "# make the lineplot of variants\n",
    "ax2 = ax.twinx()\n",
    "lines = ax2.plot(range(len(variants_by_year_cumulative)), [x / 1e6 for x in variants_by_year_cumulative.values()], marker='s', color=\"tab:green\", zorder=20)[0]\n",
    "x, y = lines.get_data()\n",
    "ax2.set_ylabel(\"Cumulative Variants (Millions)\")\n",
    "# rescale the variant y-axis so that the ticks line up\n",
    "ax2.set_ylim(0, 8.0)\n",
    "ax2.set_yticks(np.linspace(*ax2.get_ylim(), len(ax.get_yticks())))\n",
    "ax.legend((bars, lines), (\"Datasets\", \"Variants\"))\n",
    "plt.savefig(f\"mavedb_growth_{dump_date}.pdf\")\n",
    "plt.savefig(f\"mavedb_growth_{dump_date}.png\")"
   ]
  },
  {
   "cell_type": "code",
   "execution_count": null,
   "id": "9d16926a",
   "metadata": {},
   "outputs": [],
   "source": []
  }
 ],
 "metadata": {
  "kernelspec": {
   "display_name": "Python 3 (ipykernel)",
   "language": "python",
   "name": "python3"
  },
  "language_info": {
   "codemirror_mode": {
    "name": "ipython",
    "version": 3
   },
   "file_extension": ".py",
   "mimetype": "text/x-python",
   "name": "python",
   "nbconvert_exporter": "python",
   "pygments_lexer": "ipython3",
   "version": "3.9.12"
  }
 },
 "nbformat": 4,
 "nbformat_minor": 5
}
