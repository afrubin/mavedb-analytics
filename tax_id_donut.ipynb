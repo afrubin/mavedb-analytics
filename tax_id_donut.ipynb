{
 "cells": [
  {
   "cell_type": "code",
   "execution_count": null,
   "id": "b2abd28c-b0b7-4a70-b5e2-9f23edfe4f02",
   "metadata": {},
   "outputs": [],
   "source": [
    "import json\n",
    "import pandas as pd\n",
    "import numpy as np\n",
    "import matplotlib.pyplot as plt\n",
    "import matplotlib as mpl\n",
    "from pathlib import Path\n",
    "from collections import defaultdict\n",
    "import urllib.request"
   ]
  },
  {
   "cell_type": "code",
   "execution_count": null,
   "id": "1d2748bc-51c4-4702-a84e-fb884d7d198a",
   "metadata": {},
   "outputs": [],
   "source": [
    "path_to_mavedb_data = Path(\"/path/to/mavedb-dump.20241114101443\")\n",
    "with open(Path(path_to_mavedb_data, \"main.json\")) as handle:\n",
    "    api_data = json.load(handle)"
   ]
  },
  {
   "cell_type": "code",
   "execution_count": null,
   "id": "96d6b868-5fd7-47c7-bfd2-eb7d41e1b9cd",
   "metadata": {},
   "outputs": [],
   "source": [
    "len(api_data['experimentSets'])"
   ]
  },
  {
   "cell_type": "code",
   "execution_count": null,
   "id": "dc7f07bb-d890-4c82-a90d-7e9a10170e73",
   "metadata": {},
   "outputs": [],
   "source": [
    "dump_date = api_data['asOf'].split('T')[0]\n",
    "dump_date"
   ]
  },
  {
   "cell_type": "code",
   "execution_count": null,
   "id": "8f8e9c1f-5cbc-4c39-9847-e879f71e1a37",
   "metadata": {},
   "outputs": [],
   "source": [
    "total_experiments = 0\n",
    "for eset in api_data['experimentSets']:\n",
    "    total_experiments += len(eset['experiments'])\n",
    "total_experiments"
   ]
  },
  {
   "cell_type": "code",
   "execution_count": null,
   "id": "9cae9d26-dd32-4678-a409-f40e955b62f2",
   "metadata": {},
   "outputs": [],
   "source": [
    "tax_id_counts = defaultdict(int)\n",
    "for eset in api_data['experimentSets']:\n",
    "    for exp in eset['experiments']:\n",
    "        try:\n",
    "            t = exp['scoreSets'][0]['targetGenes'][0]['targetSequence']['taxonomy']['taxId']\n",
    "        except IndexError:\n",
    "            print(\"no taxId found for\", exp['scoreSets'][0]['urn'], \"- substituting 9606 (human)\")\n",
    "            tax_id_counts[9606] += 1  # the one dataset missing a target somehow is human (PAX6)\n",
    "        else:\n",
    "            tax_id_counts[t] += 1"
   ]
  },
  {
   "cell_type": "code",
   "execution_count": null,
   "id": "b19aceb6-20ac-4a8a-af66-6cc44a368724",
   "metadata": {},
   "outputs": [],
   "source": [
    "sum(tax_id_counts.values())"
   ]
  },
  {
   "cell_type": "code",
   "execution_count": null,
   "id": "d557a07d-dc8c-4b99-af70-2cfbefb29cd7",
   "metadata": {},
   "outputs": [],
   "source": [
    "# get data for each tax_id in the dataset from NCBI so we can classify based on lineage\n",
    "with urllib.request.urlopen(\"https://api.ncbi.nlm.nih.gov/datasets/v2alpha/taxonomy/taxon/\" + \",\".join(str(t) for t in tax_id_counts.keys())) as response:\n",
    "    ncbi_taxonomy_data = json.load(response)"
   ]
  },
  {
   "cell_type": "code",
   "execution_count": null,
   "id": "7dfb521b-746d-4cc1-82f0-35e03d55a3d9",
   "metadata": {},
   "outputs": [],
   "source": [
    "# insertion order here dictates the priority of term assignment (e.g. \"other eukaryote\" should be after any eukaryotic terms)\n",
    "# this order also is used as the plotting order for the donut\n",
    "aggregation_tax_ids = {\n",
    "    9606: \"human\",\n",
    "    7742: \"other vertebrates\",\n",
    "    33208: \"invertebrates\",\n",
    "    33090: \"plants\",\n",
    "    4751: \"fungi\",\n",
    "    2759: \"other eukaryotes\",\n",
    "    2: \"bacteria\",\n",
    "    2157: \"archaea\",\n",
    "    10239: \"viruses\",\n",
    "    81077: \"artificial sequence\",\n",
    "}"
   ]
  },
  {
   "cell_type": "code",
   "execution_count": null,
   "id": "6f84d37f-237e-4215-8e65-999b4f020557",
   "metadata": {},
   "outputs": [],
   "source": [
    "tax_id_plot_categories = dict()\n",
    "with open(f\"tax_id_classifications_{dump_date}.tsv\", \"w\") as handle:\n",
    "    print(\"tax_id\", \"organism_name\", \"blast_name\", \"category\", \"count\", sep=\"\\t\", file=handle)\n",
    "    for t in ncbi_taxonomy_data['taxonomy_nodes']:\n",
    "        t = t['taxonomy']\n",
    "        tax_id = t['tax_id']\n",
    "        category = None\n",
    "        if tax_id in aggregation_tax_ids:  # the tax_id is human or artificial sequence\n",
    "            category = aggregation_tax_ids[tax_id]\n",
    "        else:\n",
    "            for a in aggregation_tax_ids:  # look in the lineage for the classification\n",
    "                if a in t['lineage']:\n",
    "                    category = aggregation_tax_ids[a]\n",
    "                    break\n",
    "        if category is None:\n",
    "            print(f\"failed to classify {tax_id} ({t['organism_name']})\")\n",
    "        else:\n",
    "            tax_id_plot_categories[tax_id] = category\n",
    "            print(tax_id, t['organism_name'], t['blast_name'], category, tax_id_counts[tax_id], sep=\"\\t\", file=handle)\n"
   ]
  },
  {
   "cell_type": "code",
   "execution_count": null,
   "id": "51767e28-6c5c-4d0a-9e37-1cd504431a5d",
   "metadata": {},
   "outputs": [],
   "source": [
    "tax_id_counts_by_category = defaultdict(int)\n",
    "for t, c in tax_id_plot_categories.items():\n",
    "    tax_id_counts_by_category[c] += tax_id_counts[t]"
   ]
  },
  {
   "cell_type": "code",
   "execution_count": null,
   "id": "b93072df-fab2-47f9-a011-bf0fd10dc560",
   "metadata": {},
   "outputs": [],
   "source": [
    "tax_id_counts_by_category"
   ]
  },
  {
   "cell_type": "code",
   "execution_count": null,
   "id": "6d539046-93e8-42d8-b532-a39d60f8fd36",
   "metadata": {},
   "outputs": [],
   "source": [
    "# function that spreads the labels out to avoid overplotting\n",
    "# source: https://stackoverflow.com/a/68779745\n",
    "def fix_labels(mylabels, tooclose=0.1, sepfactor=2):\n",
    "    vecs = np.zeros((len(mylabels), len(mylabels), 2))\n",
    "    dists = np.zeros((len(mylabels), len(mylabels)))\n",
    "    for i in range(0, len(mylabels)-1):\n",
    "        for j in range(i+1, len(mylabels)):\n",
    "            a = np.array(mylabels[i].get_position())\n",
    "            b = np.array(mylabels[j].get_position())\n",
    "            dists[i,j] = np.linalg.norm(a-b)\n",
    "            vecs[i,j,:] = a-b\n",
    "            if dists[i,j] < tooclose:\n",
    "                mylabels[i].set_x(a[0] + sepfactor*vecs[i,j,0])\n",
    "                mylabels[i].set_y(a[1] + sepfactor*vecs[i,j,1])\n",
    "                mylabels[j].set_x(b[0] - sepfactor*vecs[i,j,0])\n",
    "                mylabels[j].set_y(b[1] - sepfactor*vecs[i,j,1])"
   ]
  },
  {
   "cell_type": "code",
   "execution_count": null,
   "id": "e781f002-b7aa-4003-90bf-0a7e6bf604f6",
   "metadata": {},
   "outputs": [],
   "source": [
    "data = [tax_id_counts_by_category[s] for s in aggregation_tax_ids.values()]\n",
    "labels = [f\"{s.title()} ({c})\" for s, c in zip(aggregation_tax_ids.values(), data)]"
   ]
  },
  {
   "cell_type": "code",
   "execution_count": null,
   "id": "021c09ef-2dbf-4238-93f5-d1720b519c49",
   "metadata": {},
   "outputs": [],
   "source": [
    "# set the font\n",
    "font = {'family': 'Lato',\n",
    "        'weight': 'normal',\n",
    "        'size' : 15,}\n",
    "mpl.rc('font', **font)\n",
    "\n",
    "# create the figure\n",
    "fig, ax = plt.subplots(figsize=(10, 6))\n",
    "\n",
    "# draw the plot\n",
    "wedges, text = plt.pie(data, labels=labels, wedgeprops={'linewidth': 1, 'edgecolor': 'white'}, colors=plt.cm.tab10.colors, startangle=0, counterclock=False)\n",
    "center = plt.Circle((0,0), 0.66, color='white')\n",
    "plt.gcf().gca().add_artist(center)\n",
    "fix_labels(text, tooclose=0.15, sepfactor=2)\n",
    "plt.tight_layout()\n",
    "plt.savefig(f\"taxid_donut_{dump_date}.pdf\")\n",
    "plt.savefig(f\"taxid_donut_{dump_date}.png\")"
   ]
  },
  {
   "cell_type": "code",
   "execution_count": null,
   "id": "0d5e2e84-9ba1-4fca-afe0-d8733ba070cf",
   "metadata": {},
   "outputs": [],
   "source": []
  }
 ],
 "metadata": {
  "kernelspec": {
   "display_name": "Python 3 (ipykernel)",
   "language": "python",
   "name": "python3"
  },
  "language_info": {
   "codemirror_mode": {
    "name": "ipython",
    "version": 3
   },
   "file_extension": ".py",
   "mimetype": "text/x-python",
   "name": "python",
   "nbconvert_exporter": "python",
   "pygments_lexer": "ipython3",
   "version": "3.9.12"
  }
 },
 "nbformat": 4,
 "nbformat_minor": 5
}
